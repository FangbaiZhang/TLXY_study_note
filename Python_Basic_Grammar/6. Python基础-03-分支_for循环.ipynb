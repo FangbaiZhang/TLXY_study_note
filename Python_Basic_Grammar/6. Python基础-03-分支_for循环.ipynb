{
 "cells": [
  {
   "cell_type": "markdown",
   "metadata": {},
   "source": [
    "# 6.Python基础-03-分支_for循环\n",
    "- 2018.12.31 20:00"
   ]
  },
  {
   "cell_type": "markdown",
   "metadata": {},
   "source": [
    "Python: 从入门到实践已学，本节快速学习"
   ]
  },
  {
   "cell_type": "markdown",
   "metadata": {},
   "source": [
    "## 三大结构\n",
    "- 顺序\n",
    "- 分支\n",
    "- 循环"
   ]
  },
  {
   "cell_type": "markdown",
   "metadata": {},
   "source": [
    "## 分支\n",
    "- 分支的基本语法\n",
    "\n",
    "        if 条件表达式：\n",
    "            语句1\n",
    "            语句2\n",
    "- 条件表达式结果为布尔值的表达式\n",
    "- 表达式后面的冒号不能少\n",
    "- 结果只要为True就执行"
   ]
  },
  {
   "cell_type": "markdown",
   "metadata": {},
   "source": [
    "## 双向分支\n",
    "- if...else...\n",
    "- 一定会执行其中一个，也仅执行一个"
   ]
  },
  {
   "cell_type": "markdown",
   "metadata": {},
   "source": [
    "## 多路分支\n",
    "    if...:\n",
    "        语句1\n",
    "    elif...：\n",
    "        语句1\n",
    "    elif...:\n",
    "        语句1\n",
    "        \n",
    "    ......\n",
    "    \n",
    "    else...:\n",
    "       语句1\n",
    "       \n",
    "- 只会执行其中一个"
   ]
  },
  {
   "cell_type": "markdown",
   "metadata": {},
   "source": [
    "## input（“xxxx”）返回的是字符串\n",
    "- 如果和数字比较，必须用int()函数把字符串转化为数值，str()函数将数值转化为字符串"
   ]
  },
  {
   "cell_type": "markdown",
   "metadata": {},
   "source": [
    "## for循环\n",
    "- 循环值break，continue，pass\n",
    "- break: 无条件结束整个循环，简称循环猝死\n",
    "- continue：无条件结束本次循环，从新进入到下一轮循环\n",
    "- pass: 表示略过，很少使用\n",
    "- 循环变量名的表示，一般使用i,k,n,n,或者indx,idx,item之类名称"
   ]
  }
 ],
 "metadata": {
  "kernelspec": {
   "display_name": "Python 3",
   "language": "python",
   "name": "python3"
  },
  "language_info": {
   "codemirror_mode": {
    "name": "ipython",
    "version": 3
   },
   "file_extension": ".py",
   "mimetype": "text/x-python",
   "name": "python",
   "nbconvert_exporter": "python",
   "pygments_lexer": "ipython3",
   "version": "3.7.1"
  }
 },
 "nbformat": 4,
 "nbformat_minor": 2
}
