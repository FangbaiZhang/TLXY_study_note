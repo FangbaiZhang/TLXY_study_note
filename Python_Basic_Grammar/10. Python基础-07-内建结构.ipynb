{
 "cells": [
  {
   "cell_type": "markdown",
   "metadata": {},
   "source": [
    "# 10. Python基础-07-内建结构\n",
    "- 2019.01.01 18:10"
   ]
  },
  {
   "cell_type": "markdown",
   "metadata": {},
   "source": []
  },
  {
   "cell_type": "markdown",
   "metadata": {},
   "source": [
    "## 汉罗塔问题(递归函数经典)\n",
    "- 规则：\n",
    "    1. 每次移动一个盘子\n",
    "    2. 任何时候大盘子在下面，小盘子在上面\n",
    "    3. 一共有ABC三个塔\n",
    "- 方法：\n",
    "    1. n=1: 直接将A上的盘子移动到C A>C\n",
    "    2. n=2: 小盘子A>B, 大盘子 A>C, 小盘子B>C\n",
    "    3. n=3： \n",
    "        - 把A上的两个盘子，借助C移动到B上去，调用递归实现\n",
    "        - 把A上的大盘子移动到C上，\n",
    "        - 把B上的两个盘子，借助A移动到C上去，调用递归实现\n",
    "    4. n=n:\n",
    "        - 把A上的n-1个盘子，借助C，移到B上去，调用递归实现\n",
    "        - 把A上的最后一个大盘子，移动到C上\n",
    "        - 把B上n-1个盘子，借助于A，移动到C上，调用递归"
   ]
  },
  {
   "cell_type": "code",
   "execution_count": 3,
   "metadata": {},
   "outputs": [
    {
     "name": "stdout",
     "output_type": "stream",
     "text": [
      "A --> C\n"
     ]
    }
   ],
   "source": [
    "def hano(n, a, b, c):\n",
    "    '''\n",
    "    汉诺塔规则实现\n",
    "    n: 代表几个盘子\n",
    "    a: 代表第一个塔\n",
    "    b: 代表第二个塔\n",
    "    c: 代表第三个塔\n",
    "    '''\n",
    "    if n == 1:\n",
    "        print(a, \"-->\", c)\n",
    "        return None\n",
    "    \n",
    "    if n == 2:\n",
    "        print(a, \"-->\", b)\n",
    "        print(a, \"-->\", c)\n",
    "        print(b, \"-->\", c)\n",
    "        return None\n",
    "    \n",
    "    if n == 3:\n",
    "        print(a, \"-->\", c)\n",
    "        print(a, \"-->\", b)\n",
    "        print(c, \"-->\", b)\n",
    "        print(a, \"-->\", c)\n",
    "        print(b, \"-->\", a)\n",
    "        print(b, \"-->\", c)\n",
    "        print(a, \"-->\", c)\n",
    "        return None\n",
    "    \n",
    "    if n > 3:\n",
    "        hano(n-1, a, c, b)\n",
    "        print(a, \"-->\", c)\n",
    "        hano(n-1, b, a, c)\n",
    "\n",
    "a = \"A\"\n",
    "b = \"B\"\n",
    "c = \"C\""
   ]
  },
  {
   "cell_type": "code",
   "execution_count": 4,
   "metadata": {},
   "outputs": [
    {
     "name": "stdout",
     "output_type": "stream",
     "text": [
      "A --> C\n"
     ]
    }
   ],
   "source": [
    "n = 1\n",
    "hano(n, a, b, c)"
   ]
  },
  {
   "cell_type": "code",
   "execution_count": 5,
   "metadata": {},
   "outputs": [
    {
     "name": "stdout",
     "output_type": "stream",
     "text": [
      "A --> B\n",
      "A --> C\n",
      "B --> C\n"
     ]
    }
   ],
   "source": [
    "n = 2\n",
    "hano(n, a, b, c)"
   ]
  },
  {
   "cell_type": "code",
   "execution_count": 6,
   "metadata": {},
   "outputs": [
    {
     "name": "stdout",
     "output_type": "stream",
     "text": [
      "A --> C\n",
      "A --> B\n",
      "C --> B\n",
      "A --> C\n",
      "B --> A\n",
      "B --> C\n",
      "A --> C\n"
     ]
    }
   ],
   "source": [
    "n = 3\n",
    "hano(n, a, b, c)"
   ]
  },
  {
   "cell_type": "code",
   "execution_count": 9,
   "metadata": {},
   "outputs": [
    {
     "name": "stdout",
     "output_type": "stream",
     "text": [
      "A --> C\n",
      "A --> B\n",
      "C --> B\n",
      "A --> C\n",
      "B --> A\n",
      "B --> C\n",
      "A --> C\n",
      "A --> B\n",
      "C --> B\n",
      "C --> A\n",
      "B --> A\n",
      "C --> B\n",
      "A --> C\n",
      "A --> B\n",
      "C --> B\n",
      "A --> C\n",
      "B --> A\n",
      "B --> C\n",
      "A --> C\n",
      "B --> A\n",
      "C --> B\n",
      "C --> A\n",
      "B --> A\n",
      "B --> C\n",
      "A --> C\n",
      "A --> B\n",
      "C --> B\n",
      "A --> C\n",
      "B --> A\n",
      "B --> C\n",
      "A --> C\n"
     ]
    }
   ],
   "source": [
    "n = 5\n",
    "hano(n, a, b, c)"
   ]
  },
  {
   "cell_type": "markdown",
   "metadata": {},
   "source": [
    "## List(列表）\n",
    "    - del 永久删除命令\n",
    "    - del a 删除一个变量之后，就不能再使用该变量了\n",
    "    - a.pop() 删除列表最后一个元素\n",
    "    - a.pop(0) 删除列表第一个元素\n",
    "    - 删除的元素后面还需要应用就采用pop方式删除"
   ]
  },
  {
   "cell_type": "code",
   "execution_count": 10,
   "metadata": {},
   "outputs": [
    {
     "name": "stdout",
     "output_type": "stream",
     "text": [
      "2292548639816\n",
      "[1, 3, 4, 5]\n",
      "2292548639816\n"
     ]
    }
   ],
   "source": [
    "# del删除\n",
    "a = [1, 2, 3, 4, 5]\n",
    "print(id(a))\n",
    "del a[1]\n",
    "print(a)\n",
    "print(id(a))"
   ]
  },
  {
   "cell_type": "code",
   "execution_count": 17,
   "metadata": {},
   "outputs": [
    {
     "name": "stdout",
     "output_type": "stream",
     "text": [
      "2292549907848\n",
      "5\n",
      "[1, 2, 3, 4]\n",
      "2292549907848\n",
      "3\n",
      "[1, 2, 4]\n",
      "4\n"
     ]
    }
   ],
   "source": [
    "# pop()删除\n",
    "a = [1, 2, 3, 4, 5]\n",
    "print(id(a))\n",
    "b = a.pop()\n",
    "print(b)\n",
    "print(a)\n",
    "print(id(a))\n",
    "c = a.pop(2)\n",
    "print(c)\n",
    "print(a)\n",
    "print(a.pop())"
   ]
  },
  {
   "cell_type": "markdown",
   "metadata": {},
   "source": [
    "### 列表拼接\n",
    "    - + \n",
    "    - * 多个拼接"
   ]
  },
  {
   "cell_type": "code",
   "execution_count": 23,
   "metadata": {},
   "outputs": [
    {
     "name": "stdout",
     "output_type": "stream",
     "text": [
      "[1, 2, 3, 4, 5, 'A', 'B', 'C']\n",
      "[1, 2, 3, 1, 2, 3, 1, 2, 3]\n"
     ]
    }
   ],
   "source": [
    "a = [1, 2, 3]\n",
    "b = [4, 5]\n",
    "c = ['A', 'B', 'C']\n",
    "d = a + b + c\n",
    "print(d)\n",
    "e = a * 3\n",
    "print(e)"
   ]
  },
  {
   "cell_type": "markdown",
   "metadata": {},
   "source": [
    "### 遍历列表\n",
    "    - for i in a:\n",
    "    - 双列表循环，嵌套列表，或者叫双层列表,和访问字典的键和值类似\n"
   ]
  },
  {
   "cell_type": "code",
   "execution_count": 24,
   "metadata": {},
   "outputs": [
    {
     "name": "stdout",
     "output_type": "stream",
     "text": [
      "one --- 1\n",
      "two --- 2\n",
      "three --- 3\n"
     ]
    }
   ],
   "source": [
    "a = [[\"one\", 1], [\"two\", 2], [\"three\", 3]]\n",
    "for k,v in a:\n",
    "    print(k, \"---\", v)\n",
    "    "
   ]
  },
  {
   "cell_type": "markdown",
   "metadata": {},
   "source": [
    "### 列表内涵：list content \n",
    "    - 通过简单的方法创建列表\n",
    "    - 列表中每个元素翻倍"
   ]
  },
  {
   "cell_type": "code",
   "execution_count": 25,
   "metadata": {},
   "outputs": [
    {
     "name": "stdout",
     "output_type": "stream",
     "text": [
      "[1, 2, 3]\n",
      "[1, 2, 3]\n"
     ]
    }
   ],
   "source": [
    "a = [1, 2, 3]\n",
    "b = [i for i in a]\n",
    "print(b)\n",
    "b = a[:]\n",
    "print(b)"
   ]
  },
  {
   "cell_type": "code",
   "execution_count": 26,
   "metadata": {},
   "outputs": [
    {
     "name": "stdout",
     "output_type": "stream",
     "text": [
      "[10, 20, 30]\n"
     ]
    }
   ],
   "source": [
    "# 对a中的所有元素都乘以10，然后生成一个新的列表\n",
    "a = [1, 2, 3]\n",
    "b = [i*10 for i in a]\n",
    "print(b)"
   ]
  },
  {
   "cell_type": "code",
   "execution_count": 32,
   "metadata": {},
   "outputs": [
    {
     "name": "stdout",
     "output_type": "stream",
     "text": [
      "[1, 2, 3, 4, 5, 6, 7, 8, 9, 10, 11, 12, 13, 14, 15, 16, 17, 18, 19, 20, 21, 22, 23, 24, 25, 26, 27, 28, 29, 30, 31, 32, 33, 34]\n",
      "[1, 2, 3, 4, 5, 6, 7, 8, 9, 10, 11, 12, 13, 14, 15, 16, 17, 18, 19, 20, 21, 22, 23, 24, 25, 26, 27, 28, 29, 30, 31, 32, 33, 34]\n",
      "[2, 4, 6, 8, 10, 12, 14, 16, 18, 20, 22, 24, 26, 28, 30, 32, 34]\n"
     ]
    }
   ],
   "source": [
    "# 条件表达式生成列表，生成一个偶数列表\n",
    "a = list(range(1,35))\n",
    "print(a)\n",
    "a = [x for x in range(1,35)]\n",
    "print(a)\n",
    "b = [m for m in a if m % 2 == 0]\n",
    "print(b)"
   ]
  },
  {
   "cell_type": "code",
   "execution_count": 40,
   "metadata": {},
   "outputs": [
    {
     "name": "stdout",
     "output_type": "stream",
     "text": [
      "[1, 2]\n",
      "[100, 200, 300]\n",
      "[101, 201, 301, 102, 202, 302]\n",
      "101 201 301 102 202 302 "
     ]
    }
   ],
   "source": [
    "# 列表生成可以嵌套,两个for循环嵌套的简写\n",
    "a = [i for i in range(1,3)]\n",
    "print(a)\n",
    "b = [i for i in range(100, 400) if i % 100 == 0]\n",
    "print(b)\n",
    "c = [m + n for m in a for n in b]\n",
    "print(c)\n",
    "\n",
    "# 上面代码也可写成以下等价\n",
    "for m in a:\n",
    "    for n in b:\n",
    "        print(m+n, end=\" \")"
   ]
  },
  {
   "cell_type": "markdown",
   "metadata": {},
   "source": [
    "### 列表的常用函数\n",
    "    - max(a) 求列表最大值\n",
    "    - min(a) 求列表最小值\n",
    "    - list() 将list中的内容转化为列表\n",
    "    - len(a) 求列表的长度 \n",
    "    - a.sort() 列表按字母顺序排列\n",
    "    - a.sort(reverse=True) 列表按字母反向循序排列\n",
    "    - a.reverse() 列表反向循序排列\n",
    "    - sorted(a) 临时性修改，按字母顺序排列\n",
    "    - sorted(a, reverse=true) 临时性修改，按字母反向循序排列\n",
    "    - a.insert(1,2) 第二个元素前面插入2,用的很少\n",
    "    - a.append(1) 末尾插入元素1\n",
    "    - a.pop() 删除末尾的元素\n",
    "    - a.pop(0) 删除列表的第一个元素\n",
    "    - a.remove('name') 移除列表中的元素\n",
    "    - a.clear() 清空列表中的元素\n",
    "    - a.extend(b) 将b列表拼接到a列表\n",
    "    - a.count(2) 查询a列表中有几个2"
   ]
  },
  {
   "cell_type": "code",
   "execution_count": 19,
   "metadata": {},
   "outputs": [
    {
     "name": "stdout",
     "output_type": "stream",
     "text": [
      "4\n",
      "1\n",
      "None\n",
      "['a', 'b', 'c', 'd', 'e']\n",
      "['e', 'd', 'c', 'b', 'a']\n",
      "['a', 'b', 'c', 'd', 'e']\n",
      "5\n",
      "['e', 'd', 'c', 'b', 'a']\n",
      "[1, 2, 3, 4, 5, 6, 7, 8, 9, 10, 11, 12, 13, 14]\n",
      "['n', 'a', 'm', 'e']\n"
     ]
    }
   ],
   "source": [
    "a = [1, 2, 3, 4]\n",
    "print(max(a))\n",
    "print(min(a))\n",
    "\n",
    "a = ['a', 'd', 'b', 'e', 'c']\n",
    "a.sort()\n",
    "print(a.sort())\n",
    "print(a)\n",
    "\n",
    "a.sort(reverse=True)\n",
    "print(a)\n",
    "\n",
    "b = ['a', 'd', 'b', 'e', 'c']\n",
    "print(sorted(b))\n",
    "print(len(b))\n",
    "\n",
    "c = sorted(b, reverse=True)\n",
    "print(c)\n",
    "\n",
    "print(list(range(1, 15)))\n",
    "print(list(\"name\"))\n",
    "\n"
   ]
  },
  {
   "cell_type": "code",
   "execution_count": 20,
   "metadata": {},
   "outputs": [
    {
     "name": "stdout",
     "output_type": "stream",
     "text": [
      "['abc', 'felix']\n",
      "2937258502024\n",
      "[]\n",
      "2937258502024\n"
     ]
    }
   ],
   "source": [
    "a = ['abc', 'name', 'felix']\n",
    "a.remove('name')\n",
    "print(a)\n",
    "print(id(a))\n",
    "a.clear()\n",
    "print(a)\n",
    "print(id(a))"
   ]
  },
  {
   "cell_type": "code",
   "execution_count": 25,
   "metadata": {},
   "outputs": [
    {
     "name": "stdout",
     "output_type": "stream",
     "text": [
      "['abc', 'name', 'felix', 1, 2, 3]\n",
      "['abc', 'name', 2, 'felix', 1, 2, 3, 2]\n",
      "3\n"
     ]
    }
   ],
   "source": [
    "a = ['abc', 'name', 'felix']\n",
    "b = [1, 2, 3]\n",
    "a.extend(b)\n",
    "print(a)\n",
    "a.append(2)\n",
    "a.insert(2, 2)\n",
    "print(a)\n",
    "print(a.count(2))"
   ]
  }
 ],
 "metadata": {
  "kernelspec": {
   "display_name": "Python 3",
   "language": "python",
   "name": "python3"
  },
  "language_info": {
   "codemirror_mode": {
    "name": "ipython",
    "version": 3
   },
   "file_extension": ".py",
   "mimetype": "text/x-python",
   "name": "python",
   "nbconvert_exporter": "python",
   "pygments_lexer": "ipython3",
   "version": "3.7.1"
  }
 },
 "nbformat": 4,
 "nbformat_minor": 2
}
