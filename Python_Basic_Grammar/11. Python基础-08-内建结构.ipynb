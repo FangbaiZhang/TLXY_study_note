{
 "cells": [
  {
   "cell_type": "markdown",
   "metadata": {},
   "source": [
    "# 11. Python基础-08-内建结构\n",
    "- 2019.01.02 19:40"
   ]
  },
  {
   "cell_type": "markdown",
   "metadata": {},
   "source": [
    "## 传值和传地址的区别\n",
    "    - 对于简单的数据，采用传值操作，即在函数内对参数的操作不影响外面的变量\n",
    "    - 对于复杂变量，采用传地址的操作，此时函数内的参数和外部变量是同一部分内容，任何地方对此内容的修改都将影响另外的变量或参数的使用\n",
    "    - 赋值采用 =  \n",
    "    - 看实例 copy()或者[:]复制函数，复制出的列表是一个新的地址，原始列表未被修改\n",
    "    - 直接参考实例，查看id\n",
    "    "
   ]
  },
  {
   "cell_type": "code",
   "execution_count": 6,
   "metadata": {},
   "outputs": [
    {
     "name": "stdout",
     "output_type": "stream",
     "text": [
      "[1, 2, 3, 4, 5]\n",
      "[1, 2, 666, 4, 5]\n",
      "2872776986376\n",
      "[1, 2, 666, 4, 5]\n",
      "2872776986376\n",
      "[1, 2, 666, 4, 5]\n"
     ]
    }
   ],
   "source": [
    "# 传值操作\n",
    "a = [1, 2, 3, 4, 5]\n",
    "b = a\n",
    "print(a)\n",
    "b[2] = 666\n",
    "print(a)\n",
    "print(id(a))\n",
    "print(b)\n",
    "print(id(b))"
   ]
  },
  {
   "cell_type": "code",
   "execution_count": 4,
   "metadata": {},
   "outputs": [
    {
     "name": "stdout",
     "output_type": "stream",
     "text": [
      "[1, 2, 3, 4, 5]\n",
      "2872777334536\n",
      "[1, 2, 666, 4, 5]\n",
      "2872777361416\n",
      "[1, 2, 3, 4, 5]\n"
     ]
    }
   ],
   "source": [
    "# 解决上述问题，采用copy函数\n",
    "a = [1, 2, 3, 4, 5]\n",
    "b = a.copy()\n",
    "b[2] = 666\n",
    "print(a)\n",
    "print(id(a))\n",
    "print(b)\n",
    "print(id(b))\n",
    "print(a)"
   ]
  },
  {
   "cell_type": "code",
   "execution_count": 7,
   "metadata": {},
   "outputs": [
    {
     "name": "stdout",
     "output_type": "stream",
     "text": [
      "[1, 2, 3, 4, 5]\n",
      "2872777445192\n",
      "[1, 2, 666, 4, 5]\n",
      "2872777361736\n",
      "[1, 2, 3, 4, 5]\n"
     ]
    }
   ],
   "source": [
    "# 解决上述问题，采用[：]复制列表，原列表保持不变\n",
    "a = [1, 2, 3, 4, 5]\n",
    "b = a[:]\n",
    "b[2] = 666\n",
    "print(a)\n",
    "print(id(a))\n",
    "print(b)\n",
    "print(id(b))\n",
    "print(a)"
   ]
  },
  {
   "cell_type": "markdown",
   "metadata": {},
   "source": [
    "## 浅拷贝和深拷贝的区别\n",
    "    - 双层列表\n",
    "    - 浅拷贝，只拷贝一层内容,只拷贝第一层列表\n",
    "    - 深拷贝需要特定的工具，一般不用"
   ]
  },
  {
   "cell_type": "code",
   "execution_count": 16,
   "metadata": {},
   "outputs": [
    {
     "name": "stdout",
     "output_type": "stream",
     "text": [
      "2872777418504\n",
      "2872778184520\n",
      "[1, 2, 3, [10, 20, 30]]\n",
      "[1, 2, 5, [10, 20, 30]]\n",
      "140708437603216\n",
      "140708437603280\n",
      "2872778871304\n",
      "2872778871304\n"
     ]
    }
   ],
   "source": [
    "a = [1, 2, 3, [10, 20, 30]]\n",
    "b = a.copy()\n",
    "print(id(a))\n",
    "print(id(b))\n",
    "b[2] = 5\n",
    "print(a)\n",
    "print(b)\n",
    "# 浅拷贝，第一层列表拷贝，地址已经变化\n",
    "print(id(a[2]))\n",
    "print(id(b[2]))\n",
    "# 内部列表，地址还是一样，浅拷贝，第二层列表地址还是一样\n",
    "print(id(a[3]))\n",
    "print(id(b[3]))\n",
    "\n",
    "\n"
   ]
  },
  {
   "cell_type": "markdown",
   "metadata": {},
   "source": [
    "## 元组\n",
    "    - 元组的特性和列表一样\n",
    "    - 元组就类似一个不能修改的列表\n",
    "    - 有序列表\n",
    "    - 元组数据可以是任何类型\n",
    "    - 总之，list所有特性，除了可修改外，元组都具有"
   ]
  },
  {
   "cell_type": "code",
   "execution_count": 21,
   "metadata": {},
   "outputs": [
    {
     "name": "stdout",
     "output_type": "stream",
     "text": [
      "<class 'tuple'>\n",
      "1\n",
      "<class 'int'>\n",
      "1\n",
      "<class 'str'>\n"
     ]
    }
   ],
   "source": [
    "t = (1,)\n",
    "print(type(t))\n",
    "t = (1)\n",
    "print(t)\n",
    "print(type(t))\n",
    "t = ('1')\n",
    "print(t)\n",
    "print(type(t))"
   ]
  },
  {
   "cell_type": "code",
   "execution_count": 24,
   "metadata": {},
   "outputs": [
    {
     "name": "stdout",
     "output_type": "stream",
     "text": [
      "5\n"
     ]
    }
   ],
   "source": [
    "# 索引操作\n",
    "t = (1, 2, 3, 4, 5)\n",
    "print(t[4])"
   ]
  },
  {
   "cell_type": "code",
   "execution_count": 27,
   "metadata": {},
   "outputs": [
    {
     "name": "stdout",
     "output_type": "stream",
     "text": [
      "(2, 3, 4, 5)\n",
      "(2, 4)\n",
      "(2, 3, 4, 5)\n"
     ]
    }
   ],
   "source": [
    "# 切片操作\n",
    "t = (1, 2, 3, 4, 5)\n",
    "print(t[1:])\n",
    "print(t[1::2])\n",
    "# 切片可以超标操作，索引操作不能超标，超标要报错\n",
    "print(t[1:10])"
   ]
  },
  {
   "cell_type": "code",
   "execution_count": 28,
   "metadata": {},
   "outputs": [
    {
     "name": "stdout",
     "output_type": "stream",
     "text": [
      "(1, 2, 3, 4, 5, 6)\n"
     ]
    }
   ],
   "source": [
    "# 序列相加\n",
    "t1 = (1, 2, 3)\n",
    "t2 = (4, 5, 6)\n",
    "t3 = t1 + t2\n",
    "print(t3)"
   ]
  },
  {
   "cell_type": "code",
   "execution_count": 34,
   "metadata": {},
   "outputs": [
    {
     "name": "stdout",
     "output_type": "stream",
     "text": [
      "(1, 2, 3) (4, 5, 6) (7, 8, 9) "
     ]
    }
   ],
   "source": [
    "# 双层元组的遍历\n",
    "t1 = ((1, 2, 3),(4, 5, 6), (7, 8, 9))\n",
    "for i in t1:\n",
    "    print(i, end=\" \")"
   ]
  },
  {
   "cell_type": "code",
   "execution_count": 35,
   "metadata": {},
   "outputs": [
    {
     "name": "stdout",
     "output_type": "stream",
     "text": [
      "1 2 3\n",
      "4 5 6\n",
      "7 8 9\n"
     ]
    }
   ],
   "source": [
    "t1 = ((1, 2, 3),(4, 5, 6), (7, 8, 9))\n",
    "for k, v, w in t1:\n",
    "    print(k, v, w)"
   ]
  }
 ],
 "metadata": {
  "kernelspec": {
   "display_name": "Python 3",
   "language": "python",
   "name": "python3"
  },
  "language_info": {
   "codemirror_mode": {
    "name": "ipython",
    "version": 3
   },
   "file_extension": ".py",
   "mimetype": "text/x-python",
   "name": "python",
   "nbconvert_exporter": "python",
   "pygments_lexer": "ipython3",
   "version": "3.7.1"
  }
 },
 "nbformat": 4,
 "nbformat_minor": 2
}
