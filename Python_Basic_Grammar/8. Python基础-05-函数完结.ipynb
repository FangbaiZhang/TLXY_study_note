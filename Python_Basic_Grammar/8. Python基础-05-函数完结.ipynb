{
 "cells": [
  {
   "cell_type": "markdown",
   "metadata": {},
   "source": [
    "# 8. Python基础-05-函数完结\n",
    "- 2018.12.31 21:40"
   ]
  },
  {
   "cell_type": "markdown",
   "metadata": {},
   "source": [
    "## 收集参数\n",
    "- 把没有位置，不能和定义时的参数位置相对应的参数，放入一个特定的数据结构中\n",
    "- 语法\n",
    "\n",
    "        def func(*args):\n",
    "            func_body\n",
    "            按照list使用方式访问args得到传入的参数\n",
    "         \n",
    "        调用\n",
    "        func(p1, p2, p3, ...)\n",
    "               \n",
    "- 参数args前面需要*号\n",
    "- 收集参数可以和其它参数共存\n",
    "- 如果要让函数接受不同类型的实参，必须在函数定义中将接纳任意数量实参的形参放在最后\n",
    "- **info 接受任意数量的关键字实参，一般采用字典传递实参的值\n",
    "\n"
   ]
  },
  {
   "cell_type": "markdown",
   "metadata": {},
   "source": [
    "### 收集参数的解包问题\n",
    "- 把参数直接放入list或者字典中\n",
    "- 语法：看案例"
   ]
  },
  {
   "cell_type": "code",
   "execution_count": 2,
   "metadata": {},
   "outputs": [
    {
     "name": "stdout",
     "output_type": "stream",
     "text": [
      "Jack\n",
      "Jhon\n",
      "20\n"
     ]
    }
   ],
   "source": [
    "def stu(*args):\n",
    "    for i in args:\n",
    "        print(i)\n",
    "\n",
    "stu(\"Jack\", \"Jhon\", 20)\n"
   ]
  },
  {
   "cell_type": "markdown",
   "metadata": {},
   "source": [
    "# 返回值\n",
    "- 需要return显示返回内容\n",
    "- 如果没有返回，则默认返回None\n",
    "- 推荐写法，无论有无返回值，最后都以return结束"
   ]
  },
  {
   "cell_type": "markdown",
   "metadata": {},
   "source": [
    "# 函数文档\n",
    "- 函数的文档的作用是对当前函数提供使用相关的参考信息\n",
    "- 文档的写法\n",
    "    -在函数内部开始的第一行，三个单引号字符\n",
    "    - def stu(name, age):\n",
    "        '''函数文档说明'''\n",
    "        print()\n",
    "    \n",
    "         "
   ]
  },
  {
   "cell_type": "code",
   "execution_count": 12,
   "metadata": {},
   "outputs": [
    {
     "name": "stdout",
     "output_type": "stream",
     "text": [
      "Help on function stu in module __main__:\n",
      "\n",
      "stu(name, age)\n",
      "    函数文档说明\n",
      "\n",
      "None\n",
      "函数文档说明\n"
     ]
    }
   ],
   "source": [
    "def stu(name, age):\n",
    "        '''函数文档说明'''\n",
    "        print(1)\n",
    "        \n",
    "print(help(stu))\n",
    "print(stu.__doc__)"
   ]
  }
 ],
 "metadata": {
  "kernelspec": {
   "display_name": "Python 3",
   "language": "python",
   "name": "python3"
  },
  "language_info": {
   "codemirror_mode": {
    "name": "ipython",
    "version": 3
   },
   "file_extension": ".py",
   "mimetype": "text/x-python",
   "name": "python",
   "nbconvert_exporter": "python",
   "pygments_lexer": "ipython3",
   "version": "3.7.1"
  }
 },
 "nbformat": 4,
 "nbformat_minor": 2
}
