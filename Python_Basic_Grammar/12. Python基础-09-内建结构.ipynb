{
 "cells": [
  {
   "cell_type": "markdown",
   "metadata": {},
   "source": [
    "# 11. Python基础-09-内建结构\n",
    "- 2019.01.02 21:30"
   ]
  },
  {
   "cell_type": "code",
   "execution_count": 6,
   "metadata": {},
   "outputs": [
    {
     "name": "stdout",
     "output_type": "stream",
     "text": [
      "6\n",
      "5\n",
      "1\n",
      "140708437603120\n",
      "140708437603280\n",
      "140708437603152\n"
     ]
    }
   ],
   "source": [
    "## 关于元组的函数\n",
    "t = (1, 2, 3, 4, 5, 1)\n",
    "print(len(t))\n",
    "print(max(t))\n",
    "print(min(t))\n",
    "print(id(0))\n",
    "print(id(5))\n",
    "print(id(min(t)))"
   ]
  },
  {
   "cell_type": "markdown",
   "metadata": {},
   "source": [
    "## 元组变量交换法\n",
    "    - 两个变量交换法"
   ]
  },
  {
   "cell_type": "code",
   "execution_count": 5,
   "metadata": {},
   "outputs": [
    {
     "name": "stdout",
     "output_type": "stream",
     "text": [
      "1\n",
      "3\n",
      "3\n",
      "1\n"
     ]
    },
    {
     "data": {
      "text/plain": [
       "<function print>"
      ]
     },
     "execution_count": 5,
     "metadata": {},
     "output_type": "execute_result"
    }
   ],
   "source": [
    "a = 1\n",
    "b = 3\n",
    "print(a)\n",
    "print(b)\n",
    "\n",
    "# java一般会这么写\n",
    "c = a\n",
    "a = b\n",
    "b = c\n",
    "print(a)\n",
    "print(b)\n",
    "\n",
    "# python的写法\n",
    "a, b = b, a\n",
    "print\n"
   ]
  },
  {
   "cell_type": "code",
   "execution_count": 4,
   "metadata": {},
   "outputs": [
    {
     "name": "stdout",
     "output_type": "stream",
     "text": [
      "1\n",
      "3\n",
      "3\n",
      "1\n"
     ]
    }
   ],
   "source": [
    "a = 1\n",
    "b = 3\n",
    "print(a)\n",
    "print(b)\n",
    "\n",
    "# python的写法\n",
    "a, b = b, a\n",
    "print(a)\n",
    "print(b)"
   ]
  },
  {
   "cell_type": "markdown",
   "metadata": {},
   "source": [
    "## 集合-set\n",
    "    - 集合是高中数学中的一个概念\n",
    "    - 一堆确定的无序的唯一的数据，集合中每一个数据成为一个元素\n",
    "    "
   ]
  },
  {
   "cell_type": "code",
   "execution_count": 4,
   "metadata": {},
   "outputs": [
    {
     "name": "stdout",
     "output_type": "stream",
     "text": [
      "<class 'set'>\n",
      "set()\n",
      "<class 'set'>\n",
      "{1, 2, 3}\n",
      "<class 'dict'>\n",
      "{}\n"
     ]
    }
   ],
   "source": [
    "# 集合的定义\n",
    "s = set()\n",
    "print(type(s))\n",
    "print(s)\n",
    "\n",
    "# 也可以采用大括号，但是里面要有值，不然就是一个字典了dict\n",
    "s = {1, 2, 3}\n",
    "print(type(s))\n",
    "print(s)\n",
    "\n",
    "# 只有一个大括号，就是一个dict类型\n",
    "d= {}\n",
    "print(type(d))\n",
    "print(d)"
   ]
  },
  {
   "cell_type": "markdown",
   "metadata": {},
   "source": [
    "### 集合的特征\n",
    "    - 集合内的数据无序，即无法使用索引和切片\n",
    "    - 集合内部的数据具有唯一性，可以用来排出重复数据\n",
    "    - 集合内的数据，str,int,float,tuple,即内部只能放可哈希数据"
   ]
  },
  {
   "cell_type": "markdown",
   "metadata": {},
   "source": [
    "### 集合序列操作"
   ]
  },
  {
   "cell_type": "code",
   "execution_count": 8,
   "metadata": {},
   "outputs": [
    {
     "name": "stdout",
     "output_type": "stream",
     "text": [
      "{1, 2, 'name', 'felix', 'love'}\n",
      "name\n",
      "love\n"
     ]
    }
   ],
   "source": [
    "# 成员检测\n",
    "# in, not in \n",
    "s = {1, 2, \"name\", \"love\", \"felix\"}\n",
    "print(s)\n",
    "\n",
    "if \"name\" in s:\n",
    "    print(\"name\")\n",
    "    \n",
    "if \"chuizi\" not in s:\n",
    "    print(\"love\")\n"
   ]
  },
  {
   "cell_type": "markdown",
   "metadata": {},
   "source": [
    "### 集合的内涵"
   ]
  },
  {
   "cell_type": "code",
   "execution_count": 13,
   "metadata": {},
   "outputs": [
    {
     "name": "stdout",
     "output_type": "stream",
     "text": [
      "{1, 2, 3, 545, 4, 223}\n",
      "{1, 2, 3, 4, 545, 223}\n",
      "{2, 4}\n"
     ]
    }
   ],
   "source": [
    "# 普通集合内涵\n",
    "# 以下集合在初始化之后自动过滤掉重复元素\n",
    "s = {1, 2, 3, 223, 545, 3, 3, 2, 1, 4, 1}\n",
    "print(s)\n",
    "\n",
    "ss = {i for i in s}\n",
    "print(ss)\n",
    "\n",
    "# 带条件的集合内涵\n",
    "sss = {i for i in s if i % 2 == 0}\n",
    "print(sss)"
   ]
  },
  {
   "cell_type": "code",
   "execution_count": 17,
   "metadata": {},
   "outputs": [
    {
     "name": "stdout",
     "output_type": "stream",
     "text": [
      "{'ii', 'n', 'nn', 'iii', 'nnn', 'i'}\n"
     ]
    }
   ],
   "source": [
    "# 多循环的集合内涵\n",
    "s1 = {1, 2, 3}\n",
    "s2 = {\"i\", \"n\"}\n",
    "s = {m*n for m in s2 for n in s1}\n",
    "print(s)"
   ]
  },
  {
   "cell_type": "code",
   "execution_count": 18,
   "metadata": {},
   "outputs": [
    {
     "name": "stdout",
     "output_type": "stream",
     "text": [
      "{1, 222}\n"
     ]
    }
   ],
   "source": [
    "# add向集合添加数据\n",
    "s = {1}\n",
    "s.add(222)\n",
    "print(s)"
   ]
  },
  {
   "cell_type": "code",
   "execution_count": 22,
   "metadata": {},
   "outputs": [
    {
     "name": "stdout",
     "output_type": "stream",
     "text": [
      "1\n"
     ]
    }
   ],
   "source": [
    "# pop 随机移除一个元素\n",
    "s = {1, 2, 3, 5}\n",
    "print(s.pop())"
   ]
  },
  {
   "cell_type": "markdown",
   "metadata": {},
   "source": [
    "### 集合常用的函数\n",
    "    - intersection:交集\n",
    "    - difference：差集\n",
    "    - union： 并集\n",
    "    - issubset: 检查一个集合是否为另一个集合的子集\n",
    "    - issuperset: 检查一个集合是否为另一个集合的超集\n",
    "    - 减号“-”：求差集\n",
    "    "
   ]
  },
  {
   "cell_type": "code",
   "execution_count": 29,
   "metadata": {},
   "outputs": [
    {
     "name": "stdout",
     "output_type": "stream",
     "text": [
      "{3, 4}\n",
      "{1, 2, 3, 4, 5, 6}\n",
      "True\n",
      "{1, 2}\n",
      "{3, 4}\n"
     ]
    }
   ],
   "source": [
    "s1 = {1, 2, 3, 4}\n",
    "s2 = {3, 4, 5, 6}\n",
    "s3 = {1, 2}\n",
    "\n",
    "s_1 = s1.intersection(s2)\n",
    "print(s_1)\n",
    "\n",
    "s_2 = s1.union(s2)\n",
    "print(s_2)\n",
    "\n",
    "s_3 = s1.issuperset(s3)\n",
    "print(s_3)\n",
    "\n",
    "s_4 = s1 - s2\n",
    "print(s_4)\n",
    "s_5 = s1 - s3\n",
    "print(s_5)"
   ]
  },
  {
   "cell_type": "markdown",
   "metadata": {},
   "source": [
    "## 字典\n",
    "    - 字典是一种组合数据，没有循序的组合数据，数据都是以键值的方式出现\n",
    "    - 字典创建方式，看实例"
   ]
  },
  {
   "cell_type": "code",
   "execution_count": 1,
   "metadata": {},
   "outputs": [
    {
     "name": "stdout",
     "output_type": "stream",
     "text": [
      "{}\n",
      "<class 'dict'>\n",
      "{}\n",
      "<class 'dict'>\n"
     ]
    }
   ],
   "source": [
    "# 创建空字典1,大括号\n",
    "d = {}\n",
    "print(d)\n",
    "print(type(d))\n",
    "\n",
    "# 创建空字典2，小括号加dict\n",
    "d = dict()\n",
    "print(d)\n",
    "print(type(d))"
   ]
  },
  {
   "cell_type": "code",
   "execution_count": 9,
   "metadata": {},
   "outputs": [
    {
     "name": "stdout",
     "output_type": "stream",
     "text": [
      "{'one': 1, 'two': 2, 'three': 3}\n",
      "<class 'dict'>\n"
     ]
    }
   ],
   "source": [
    "# 创建有内容的字典1，用冒号，键值，最常用，就用这一种\n",
    "d = {'one': 1, 'two': 2, 'three': 3}\n",
    "print(d)\n",
    "print(type(d))"
   ]
  },
  {
   "cell_type": "code",
   "execution_count": 3,
   "metadata": {},
   "outputs": [
    {
     "name": "stdout",
     "output_type": "stream",
     "text": [
      "{'one': 1, 'two': 2, 'three': 3}\n",
      "<class 'dict'>\n"
     ]
    }
   ],
   "source": [
    "# 创建有内容的字典2\n",
    "d = dict({\"one\": 1, \"two\": 2, \"three\": 3})\n",
    "print(d)\n",
    "print(type(d))"
   ]
  },
  {
   "cell_type": "code",
   "execution_count": 7,
   "metadata": {},
   "outputs": [
    {
     "name": "stdout",
     "output_type": "stream",
     "text": [
      "{'one': 1, 'two': 2, 'three': 3}\n",
      "<class 'dict'>\n"
     ]
    }
   ],
   "source": [
    "# 创建有内容的字典3, 利用关键字参数\n",
    "d = dict(one=1, two=2, three=3)\n",
    "print(d)\n",
    "print(type(d))"
   ]
  },
  {
   "cell_type": "markdown",
   "metadata": {},
   "source": [
    "## 字典的特征\n",
    "    - 字典是序列类型，但是内部数据\n",
    "    - 字典中的数据每个都有键值对组成，即k,v对\n",
    "        - key:必须是可哈希的值，比如str,int,float,tuple,但是，list,set,dict不行\n",
    "        - value:任何值"
   ]
  },
  {
   "cell_type": "code",
   "execution_count": 12,
   "metadata": {},
   "outputs": [
    {
     "name": "stdout",
     "output_type": "stream",
     "text": [
      "1\n",
      "{'one': 11, 'two': 2, 'three': 3}\n",
      "{'two': 2, 'three': 3}\n"
     ]
    }
   ],
   "source": [
    "# 访问数据\n",
    "d = {'one': 1, 'two': 2, 'three': 3}\n",
    "print(d['one'])\n",
    "\n",
    "# 修改数据\n",
    "d['one'] = 11\n",
    "print(d)\n",
    "\n",
    "# 删除数据\n",
    "del d['one']\n",
    "print(d)"
   ]
  },
  {
   "cell_type": "code",
   "execution_count": 14,
   "metadata": {},
   "outputs": [
    {
     "name": "stdout",
     "output_type": "stream",
     "text": [
      "one\n",
      "two\n",
      "three\n",
      "1\n",
      "2\n",
      "3\n",
      "one --- 1\n",
      "two --- 2\n",
      "three --- 3\n"
     ]
    }
   ],
   "source": [
    "# for循环访问数据\n",
    "d = {'one': 1, 'two': 2, 'three': 3}\n",
    "for k in d.keys():\n",
    "    print(k)\n",
    "\n",
    "for v in d.values():\n",
    "    print(v)\n",
    "    \n",
    "for k,v in d.items():\n",
    "    print(k, \"---\", v)"
   ]
  },
  {
   "cell_type": "markdown",
   "metadata": {},
   "source": [
    "## 字典生成式"
   ]
  },
  {
   "cell_type": "code",
   "execution_count": 16,
   "metadata": {},
   "outputs": [
    {
     "name": "stdout",
     "output_type": "stream",
     "text": [
      "{'two': 2}\n"
     ]
    }
   ],
   "source": [
    "d = {'one': 1, 'two': 2, 'three': 3}\n",
    "\n",
    "# 加限制条件的字典生成式\n",
    "dd = {k:v for k,v in d.items() if v % 2 == 0}\n",
    "print(dd)"
   ]
  },
  {
   "cell_type": "markdown",
   "metadata": {},
   "source": [
    "## 字典相关函数\n",
    "    - 常用函数：len,max,min,dict\n",
    "    - 特殊函数str:返回字典的字符串格式"
   ]
  },
  {
   "cell_type": "code",
   "execution_count": 17,
   "metadata": {},
   "outputs": [
    {
     "name": "stdout",
     "output_type": "stream",
     "text": [
      "{'one': 1, 'two': 2, 'three': 3}\n"
     ]
    }
   ],
   "source": [
    "d = {'one': 1, 'two': 2, 'three': 3}\n",
    "print(str(d))"
   ]
  },
  {
   "cell_type": "code",
   "execution_count": 24,
   "metadata": {},
   "outputs": [
    {
     "name": "stdout",
     "output_type": "stream",
     "text": [
      "1\n",
      "1\n",
      "None\n",
      "111\n"
     ]
    }
   ],
   "source": [
    "# get,根据制定的键返回相应的值，好处是可以设置默认值\n",
    "d = {'one': 1, 'two': 2, 'three': 3}\n",
    "print(d.get('one'))\n",
    "print(d['one'])\n",
    "\n",
    "# get,根据制定的键返回相应的值，好处是可以设置默认值\n",
    "d = {'one': 1, 'two': 2, 'three': 3}\n",
    "print(d.get('one111'))\n",
    "\n",
    "# 设置默认值\n",
    "print(d.get('one111', 111))"
   ]
  },
  {
   "cell_type": "code",
   "execution_count": 30,
   "metadata": {},
   "outputs": [
    {
     "name": "stdout",
     "output_type": "stream",
     "text": [
      "<class 'dict'>\n",
      "{'one': 'haha', 'two': 'haha', 'three': 'haha'}\n",
      "3\n",
      "two\n",
      "one\n"
     ]
    }
   ],
   "source": [
    "# fromkeys: 使用指定的序列作为键，使用一个值作为字典的所有的键的值\n",
    "l = ['one', 'two', 'three']\n",
    "d = dict.fromkeys(l, 'haha')\n",
    "print(type(d))\n",
    "print(d)\n",
    "print(len(d))\n",
    "print(max(d))\n",
    "print(min(d))"
   ]
  }
 ],
 "metadata": {
  "kernelspec": {
   "display_name": "Python 3",
   "language": "python",
   "name": "python3"
  },
  "language_info": {
   "codemirror_mode": {
    "name": "ipython",
    "version": 3
   },
   "file_extension": ".py",
   "mimetype": "text/x-python",
   "name": "python",
   "nbconvert_exporter": "python",
   "pygments_lexer": "ipython3",
   "version": "3.7.1"
  }
 },
 "nbformat": 4,
 "nbformat_minor": 2
}
