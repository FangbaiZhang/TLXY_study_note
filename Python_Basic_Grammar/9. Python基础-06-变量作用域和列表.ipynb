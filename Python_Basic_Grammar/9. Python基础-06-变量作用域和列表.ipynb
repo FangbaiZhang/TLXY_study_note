{
 "cells": [
  {
   "cell_type": "markdown",
   "metadata": {},
   "source": [
    "# 9. Python基础-06-变量作用域和列表\n",
    "- 2019.01.01 13:40"
   ]
  },
  {
   "cell_type": "markdown",
   "metadata": {},
   "source": [
    "## 变量作用域\n",
    "- 变量由作用范围限制\n",
    "- 分类：按作用域分类\n",
    "    - 全局（global）:在函数外部定义\n",
    "    - 局部（local）：在函数内部定义\n",
    "- 变量的作用范围：\n",
    "    - 全局变量: 在整个全局范围都有效\n",
    "    - 全局变量在局部可以使用（即函数内部可以使用函数外部定义的变量）\n",
    "    - 局部变量在局部范围可以使用\n",
    "    - 局部变量在全局范围无法使用\n",
    "    - 原则：局部可以调用外部，外部不能调用局部的\n",
    "    - 看实例\n",
    "- LEGB原则\n",
    "    - L（local）局部作用域\n",
    "    - E（Enclosing function local）外部嵌套函数作用域\n",
    "    - G（Global module）函数定义所在模块作用域\n",
    "    - B（Buildin）python内置模块的作用域"
   ]
  },
  {
   "cell_type": "code",
   "execution_count": 1,
   "metadata": {},
   "outputs": [
    {
     "name": "stdout",
     "output_type": "stream",
     "text": [
      "100\n",
      "200\n",
      "100\n"
     ]
    },
    {
     "ename": "NameError",
     "evalue": "name 'b1' is not defined",
     "output_type": "error",
     "traceback": [
      "\u001b[1;31m---------------------------------------------------------------------------\u001b[0m",
      "\u001b[1;31mNameError\u001b[0m                                 Traceback (most recent call last)",
      "\u001b[1;32m<ipython-input-1-485585f1bb70>\u001b[0m in \u001b[0;36m<module>\u001b[1;34m\u001b[0m\n\u001b[0;32m      9\u001b[0m \u001b[0mfunc\u001b[0m\u001b[1;33m(\u001b[0m\u001b[0ma1\u001b[0m\u001b[1;33m)\u001b[0m\u001b[1;33m\u001b[0m\u001b[1;33m\u001b[0m\u001b[0m\n\u001b[0;32m     10\u001b[0m \u001b[0mprint\u001b[0m\u001b[1;33m(\u001b[0m\u001b[0ma1\u001b[0m\u001b[1;33m)\u001b[0m\u001b[1;33m\u001b[0m\u001b[1;33m\u001b[0m\u001b[0m\n\u001b[1;32m---> 11\u001b[1;33m \u001b[0mprint\u001b[0m\u001b[1;33m(\u001b[0m\u001b[0mb1\u001b[0m\u001b[1;33m)\u001b[0m\u001b[1;33m\u001b[0m\u001b[1;33m\u001b[0m\u001b[0m\n\u001b[0m",
      "\u001b[1;31mNameError\u001b[0m: name 'b1' is not defined"
     ]
    }
   ],
   "source": [
    "# 变量作用域实例\n",
    "# 外部调用内部的b1就不行\n",
    "a1 = 100\n",
    "\n",
    "def func(a):\n",
    "    print(a)\n",
    "    b1 = 200\n",
    "    print(b1)\n",
    "\n",
    "func(a1)\n",
    "print(a1)\n",
    "print(b1)"
   ]
  },
  {
   "cell_type": "markdown",
   "metadata": {},
   "source": [
    "## 提升变量的作用域\n",
    "- 采用global\n",
    "\n"
   ]
  },
  {
   "cell_type": "code",
   "execution_count": 6,
   "metadata": {},
   "outputs": [
    {
     "name": "stdout",
     "output_type": "stream",
     "text": [
      "100\n"
     ]
    }
   ],
   "source": [
    "def func():\n",
    "    global b1\n",
    "    b1 = 100\n",
    "\n",
    "# 先要执行以下调用函数，将局部变量提升为全局函数\n",
    "func()\n",
    "print(b1)\n",
    "    "
   ]
  },
  {
   "cell_type": "markdown",
   "metadata": {},
   "source": [
    "## eval()函数\n",
    "- 将一个字符串当成一个表达式来执行，返回表达式执行的结果\n",
    "- 语法:\n",
    "        eval(string_coding, globals=None, locals=None)\n",
    "        \n",
    "## exec()函数   \n",
    "- 将一个字符串当成一个表达式来执行，不返会结果\n",
    "- 语法:\n",
    "        exec(string_coding, globals=None, locals=None)"
   ]
  },
  {
   "cell_type": "code",
   "execution_count": 7,
   "metadata": {},
   "outputs": [
    {
     "name": "stdout",
     "output_type": "stream",
     "text": [
      "300\n",
      "300\n"
     ]
    }
   ],
   "source": [
    "# eval实例\n",
    "x = 100\n",
    "y = 200\n",
    "\n",
    "z1 = x + y\n",
    "z2 = eval(\"x+y\")\n",
    "\n",
    "print(z1)\n",
    "print(z2)\n"
   ]
  },
  {
   "cell_type": "code",
   "execution_count": 8,
   "metadata": {},
   "outputs": [
    {
     "name": "stdout",
     "output_type": "stream",
     "text": [
      "300\n",
      "None\n"
     ]
    }
   ],
   "source": [
    "# exec实例\n",
    "x = 100\n",
    "y = 200\n",
    "\n",
    "z1 = x + y\n",
    "z2 = exec(\"x+y\")\n",
    "\n",
    "print(z1)\n",
    "print(z2)"
   ]
  },
  {
   "cell_type": "markdown",
   "metadata": {},
   "source": [
    "## 递归函数 \n",
    "- 函数直接或者间接调用自身\n",
    "- 优点：简洁，理解容易\n",
    "- 缺点：对递归深度有限制，消耗资源大\n",
    "- python对递归深度有限制，超过限制直接报错\n",
    "- 在写程序时，想好结束条件\n",
    "- windows下最大迭代次数约4400次，linux下最大迭代次数约为24900次（python 2.7 64位）\n"
   ]
  },
  {
   "cell_type": "code",
   "execution_count": null,
   "metadata": {},
   "outputs": [],
   "source": [
    "# 递归调用深度限制\n",
    "x = 0\n",
    "def fun():\n",
    "    global x\n",
    "    x += 1\n",
    "    print(x)\n",
    "    # 函数自己调用自己\n",
    "    fun()\n",
    "\n",
    "# 调用函数\n",
    "# fun()"
   ]
  },
  {
   "cell_type": "markdown",
   "metadata": {},
   "source": [
    "## 斐波那契数列(递归调用)\n",
    "- 一个数字第一个值是1，第二个值也是1，从第三个数值开始等于前两个数值的和\n",
    "- f(1) = 1, f(2) = 1, f(n) = f(n-1) + f(n-2)\n",
    "- 例如： 1，1， 2， 3，5，8，13，..."
   ]
  },
  {
   "cell_type": "code",
   "execution_count": null,
   "metadata": {},
   "outputs": [],
   "source": [
    "def fib(n):\n",
    "    if n == 1:\n",
    "        return 1\n",
    "    elif n ==2:\n",
    "        return 1\n",
    "    else:\n",
    "        return fib(n-1) + fib(n-2)\n",
    "\n",
    "print(fib(1))\n"
   ]
  },
  {
   "cell_type": "markdown",
   "metadata": {},
   "source": [
    "## 列表\n",
    "- 切片，默认每次间隔1个,但是也可以间隔指定值\n",
    "- list[1:5]，间隔指定值list[1:5:2]"
   ]
  },
  {
   "cell_type": "code",
   "execution_count": 4,
   "metadata": {},
   "outputs": [
    {
     "name": "stdout",
     "output_type": "stream",
     "text": [
      "1\n",
      "[2, 3, 4, 5]\n",
      "[2, 4]\n",
      "[4, 6]\n"
     ]
    }
   ],
   "source": [
    "l = [1, 2, 3, 4, 5, 6, 7]\n",
    "print(l[0])\n",
    "print(l[1:5])\n",
    "print(l[1:5:2])\n",
    "print(l[-4:-1:2])"
   ]
  },
  {
   "cell_type": "markdown",
   "metadata": {},
   "source": [
    "## 内置函数id\n",
    "- 负责显示一个变量或者数据的唯一确定编号\n",
    "- 使用id函数可以判断列表是否为同一份原始数据，还是新生成的数据"
   ]
  },
  {
   "cell_type": "code",
   "execution_count": 9,
   "metadata": {},
   "outputs": [
    {
     "name": "stdout",
     "output_type": "stream",
     "text": [
      "140708289036208\n",
      "140708289039408\n",
      "100\n",
      "140708289036208\n",
      "101\n",
      "100\n"
     ]
    }
   ],
   "source": [
    "a = 100\n",
    "b = 200\n",
    "c = a\n",
    "\n",
    "print(id(a))\n",
    "print(id(b))\n",
    "print(c)\n",
    "print(id(c))\n",
    "\n",
    "a = 101\n",
    "print(a)\n",
    "print(c)\n"
   ]
  },
  {
   "cell_type": "code",
   "execution_count": 17,
   "metadata": {},
   "outputs": [
    {
     "name": "stdout",
     "output_type": "stream",
     "text": [
      "[1, 2, 3, 4, 5, 6, 7]\n",
      "[1, 2, 3, 4, 5, 6, 7]\n",
      "2785327630856\n",
      "2785327642568\n",
      "2785327642568\n",
      "[1, 100, 3, 4, 5, 6, 7]\n",
      "[1, 2, 3, 4, 5, 6, 7]\n",
      "[1, 2, 3, 4, 5, 6, 7]\n",
      "[1, 100, 3, 4, 5, 6, 7]\n",
      "[1, 100, 3, 4, 5, 6, 7]\n",
      "[1, 100, 3, 4, 5, 6, 7]\n"
     ]
    }
   ],
   "source": [
    "# 判断数据是否为新生成,复制的数据\n",
    "l = [1, 2, 3, 4, 5, 6, 7]\n",
    "ll = l[:]\n",
    "lll = ll\n",
    "print(l)\n",
    "print(ll)\n",
    "# 表面看一模一样，其实数据的唯一编号不同了\n",
    "# 如果id一模一样，则是使用的同一地址同一个数据\n",
    "print(id(l))\n",
    "print(id(ll))\n",
    "print(id(lll))\n",
    "\n",
    "# 验证ll和lll为同一份数据\n",
    "l[1] = 100\n",
    "print(l)\n",
    "print(ll)\n",
    "print(lll)\n",
    "\n",
    "ll[1] = 100\n",
    "print(l)\n",
    "print(ll)\n",
    "print(lll)\n",
    "\n"
   ]
  }
 ],
 "metadata": {
  "kernelspec": {
   "display_name": "Python 3",
   "language": "python",
   "name": "python3"
  },
  "language_info": {
   "codemirror_mode": {
    "name": "ipython",
    "version": 3
   },
   "file_extension": ".py",
   "mimetype": "text/x-python",
   "name": "python",
   "nbconvert_exporter": "python",
   "pygments_lexer": "ipython3",
   "version": "3.7.1"
  }
 },
 "nbformat": 4,
 "nbformat_minor": 2
}
