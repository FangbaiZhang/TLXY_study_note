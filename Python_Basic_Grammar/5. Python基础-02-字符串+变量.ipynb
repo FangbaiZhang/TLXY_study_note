{
 "cells": [
  {
   "cell_type": "markdown",
   "metadata": {},
   "source": [
    "# 5. Python基础-02-字符串+变量\n",
    "- 2018.12.31 19:00\n"
   ]
  },
  {
   "cell_type": "code",
   "execution_count": null,
   "metadata": {},
   "outputs": [],
   "source": [
    "Python: 从入门到实践已学，本节快速学习\n"
   ]
  },
  {
   "cell_type": "code",
   "execution_count": null,
   "metadata": {},
   "outputs": [],
   "source": [
    "## 变量名\n",
    "- 小写英文单词加下划线的组合\n",
    "- name_1,student_name\n",
    "- 类的命名大驼峰命名法，单词首字母大写\n",
    "- Class, Car, MiddleSchool"
   ]
  },
  {
   "cell_type": "code",
   "execution_count": null,
   "metadata": {},
   "outputs": [],
   "source": [
    "## 转义字符\n",
    "- 用一个特殊的方法表示出一系列不方便书写的内容，比如换行，回车键等\n",
    "- 字符串中，一旦出现反斜杠\\，一定要小心，一定有转移符出现\n",
    "- 换行\\n用的最多，\n",
    "    - Windows: \\n\n",
    "    - Linux: \\r\\n\n",
    "### 常用转义符\n",
    "- \\' == '\n",
    "- \\\\ == \\\n",
    "- \\n == 换行，就是回车"
   ]
  },
  {
   "cell_type": "code",
   "execution_count": 5,
   "metadata": {},
   "outputs": [
    {
     "name": "stdout",
     "output_type": "stream",
     "text": [
      "Let's go.\n",
      "Les's go.\n"
     ]
    }
   ],
   "source": [
    "# 实例\n",
    "s = \"Let's go.\"\n",
    "print(s)\n",
    "s = 'Les\\'s go.'\n",
    "print(s)"
   ]
  },
  {
   "cell_type": "code",
   "execution_count": null,
   "metadata": {},
   "outputs": [
    {
     "name": "stdout",
     "output_type": "stream",
     "text": [
      "c:\\python\n"
     ]
    }
   ],
   "source": [
    "ss = \"c:\\\\python\"\n",
    "print(ss)"
   ]
  },
  {
   "cell_type": "markdown",
   "metadata": {},
   "source": [
    "## 逻辑运算符\n",
    "- 对布尔值进行运算,结果True或者False\n",
    "- and 逻辑与\n",
    "- or 逻辑或\n",
    "- not 逻辑非\n",
    "- python中没有异或运算\n",
    "- 运算规则\n",
    "    - and都真\n",
    "    - or有一个真即可\n",
    "    - 从左到右依次计算\n",
    "- 逻辑运算的短路问题\n",
    "    - 逻辑运算式，按照运算循序，一旦确定True或者False,则不在进行计算，直接返回值\n"
   ]
  },
  {
   "cell_type": "code",
   "execution_count": null,
   "metadata": {},
   "outputs": [
    {
     "name": "stdout",
     "output_type": "stream",
     "text": [
      "True\n",
      "True\n"
     ]
    }
   ],
   "source": [
    "# 逻辑短路实例\n",
    "a = True or xxxxx\n",
    "print(a)\n",
    "\n",
    "# 赋值表达式\n",
    "b = 9\n",
    "a = a or b\n",
    "print(a)"
   ]
  },
  {
   "cell_type": "markdown",
   "metadata": {},
   "source": [
    "## 运算符优先级\n",
    "- 永远记住，括号具有最高优先级，要想优先运算，直接加多个括号\n",
    "- 表达式里面有多个符号，直接拆分为多个表达式"
   ]
  }
 ],
 "metadata": {
  "kernelspec": {
   "display_name": "Python 3",
   "language": "python",
   "name": "python3"
  },
  "language_info": {
   "codemirror_mode": {
    "name": "ipython",
    "version": 3
   },
   "file_extension": ".py",
   "mimetype": "text/x-python",
   "name": "python",
   "nbconvert_exporter": "python",
   "pygments_lexer": "ipython3",
   "version": "3.7.1"
  }
 },
 "nbformat": 4,
 "nbformat_minor": 2
}
